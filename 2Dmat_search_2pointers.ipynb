class Solution(object):
    def searchMatrix(self, matrix, target):
        """
        :type matrix: List[List[int]]
        :type target: int
        :rtype: bool
        :time complexity: O(m*n)
        :space complexity: O(1)
        """
        rows = len(matrix)
        col=len(matrix[0])
        i=0
        j=len(matrix[0])-1
        
        if rows==1 and col==1 and matrix[0][0]!=target:
                return False
        
        while(i<rows and j>=0):
            if matrix[i][j]==target:
                return True
            # move row
            if matrix[i][j] < target:
                i+=1
            # move column
            else:
                j-=1
            
            
            
        
            
            